{
 "cells": [
  {
   "cell_type": "code",
   "execution_count": 6,
   "metadata": {},
   "outputs": [
    {
     "name": "stdout",
     "output_type": "stream",
     "text": [
      "モデル化期間20日DONE\n",
      "\n",
      "モデル化期間40日DONE\n",
      "\n",
      "モデル化期間60日DONE\n",
      "\n",
      "モデル化期間80日DONE\n",
      "\n",
      "モデル化期間100日DONE\n",
      "\n",
      "モデル化期間120日DONE\n",
      "\n",
      "モデル化期間140日DONE\n",
      "\n",
      "モデル化期間160日DONE\n",
      "\n"
     ]
    }
   ],
   "source": [
    "# 重回帰予測\n",
    "import pandas as pd\n",
    "import numpy as np\n",
    "from sklearn.model_selection import train_test_split\n",
    "from sklearn.metrics import accuracy_score\n",
    "import warnings\n",
    "from sklearn.utils.testing import all_estimators\n",
    "from sklearn.linear_model import LinearRegression\n",
    "from sklearn.linear_model import LogisticRegression\n",
    "from sklearn import preprocessing\n",
    "import warnings\n",
    "import time\n",
    "warnings.filterwarnings('ignore')\n",
    "#パラメータ\n",
    "line=237\n",
    "testSize=60\n",
    "repeat=int((line-testSize)/20)+1\n",
    "readCsv=\"Spring.csv\"\n",
    "\n",
    "#データフレームを一つにまとめる変数の初期化\n",
    "result=pd.DataFrame()\n",
    "for i in range(1,repeat):\n",
    "    elec_data = pd.read_csv(readCsv)\n",
    "    elec_data=elec_data.drop(range(0,line-i*20-testSize))\n",
    "    # データをラベルと入力データに分離する \n",
    "    y = elec_data.loc[:,\"High\"]\n",
    "    x = elec_data.loc[:,[\"Firepower\",\"HydraulicPower\",\"Biomass\",\"Solar power\",\"Wind power\",\"Pomping\",\"Interconnection\",\"Average\",\"Temperature\",\"Soloar\",\"Wind\",\"Humidity\",\"High_temp\",\"Low_temp\"]]\n",
    "    \n",
    "    # 学習用とテスト用に分離する \n",
    "    x_train, x_test, y_train, y_test = train_test_split(x, y, test_size = testSize, train_size = 20*i, shuffle = False)\n",
    "    #モデル作成,学習まで\n",
    "    model=LinearRegression()\n",
    "    model.fit(x_train,y_train)\n",
    "    y_train_pred=model.predict(x_test)\n",
    "    \n",
    "    #データフレームに変換\n",
    "    s = pd.Series(y_train_pred)\n",
    "    s = pd.DataFrame(s, columns=[str(i*20)]) \n",
    "    result=pd.concat([result,s],axis=1)\n",
    "    #print(result)\n",
    "    \n",
    "    print(\"モデル化期間\"+str(20*i)+\"日DONE\\n\")\n",
    "result.to_csv('重回帰elec_result.csv',index=False,)\n"
   ]
  }
 ],
 "metadata": {
  "kernelspec": {
   "display_name": "Python 3",
   "language": "python",
   "name": "python3"
  },
  "language_info": {
   "codemirror_mode": {
    "name": "ipython",
    "version": 3
   },
   "file_extension": ".py",
   "mimetype": "text/x-python",
   "name": "python",
   "nbconvert_exporter": "python",
   "pygments_lexer": "ipython3",
   "version": "3.7.7"
  }
 },
 "nbformat": 4,
 "nbformat_minor": 4
}
